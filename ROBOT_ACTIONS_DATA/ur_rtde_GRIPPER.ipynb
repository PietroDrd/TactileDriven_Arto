{
 "cells": [
  {
   "cell_type": "code",
   "execution_count": null,
   "metadata": {},
   "outputs": [],
   "source": [
    "from POINTS_A320 import *\n",
    "IP = \"192.168.1.102\"\n",
    "\n",
    "import rtde_control\n",
    "import rtde_receive\n",
    "import time\n",
    "from robotiq_gripper import RobotiqGripper\n",
    "\n",
    "ip_address=\"192.168.1.102\"\n",
    "rtde_c = rtde_control.RTDEControlInterface(ip_address)\n",
    "rtde_r = rtde_receive.RTDEReceiveInterface(ip_address)\n",
    "\n",
    "pl = rtde_r.getPayload()\n",
    "print(pl)"
   ]
  },
  {
   "cell_type": "code",
   "execution_count": null,
   "metadata": {},
   "outputs": [],
   "source": [
    "rtde_c.stopScript()\n",
    "rtde_c.disconnect()\n",
    "rtde_r.disconnect()"
   ]
  },
  {
   "cell_type": "markdown",
   "metadata": {},
   "source": [
    "# TEACH MODE"
   ]
  },
  {
   "cell_type": "code",
   "execution_count": 1,
   "metadata": {},
   "outputs": [
    {
     "data": {
      "text/plain": [
       "True"
      ]
     },
     "execution_count": 1,
     "metadata": {},
     "output_type": "execute_result"
    }
   ],
   "source": [
    "import rtde_control\n",
    "rtde_c = rtde_control.RTDEControlInterface('192.168.1.102')\n",
    "rtde_c.teachMode()"
   ]
  },
  {
   "cell_type": "code",
   "execution_count": 3,
   "metadata": {},
   "outputs": [],
   "source": [
    "rtde_c.endTeachMode()\n",
    "rtde_c.disconnect()"
   ]
  },
  {
   "cell_type": "markdown",
   "metadata": {},
   "source": [
    "## PRINT TCP POSE"
   ]
  },
  {
   "cell_type": "code",
   "execution_count": 5,
   "metadata": {},
   "outputs": [
    {
     "name": "stdout",
     "output_type": "stream",
     "text": [
      "Copied to clipboard:\n",
      "XXXX _p = [-0.024899, 0.436218, -0.076761, -1.978077, -2.016714, 0.448848]\n",
      "XXXX _q = [-2.058537, -1.134739, 2.300875, 3.774006, -1.210437, -2.111914]\n"
     ]
    }
   ],
   "source": [
    "import rtde_receive\n",
    "import pyperclip\n",
    "\n",
    "rtde_r = rtde_receive.RTDEReceiveInterface('192.168.1.102')\n",
    "\n",
    "def rem(vec):\n",
    "    ret = [x.replace(\"'\", \"\") for x in vec]\n",
    "    return [float(x) for x in ret]\n",
    "\n",
    "tcpose = rtde_r.getActualTCPPose()\n",
    "actual_q = rtde_r.getActualQ()\n",
    "\n",
    "tcposef = [f'{x:.6f}' for x in tcpose]\n",
    "actual_qf = [f'{x:.6f}' for x in actual_q]\n",
    "result_tcpose = rem(tcposef)\n",
    "result_actual_q = rem(actual_qf)\n",
    "\n",
    "# Convert the result to a string for copying to the clipboard\n",
    "result_tcpose_str = ' '.join(map(str, result_tcpose))\n",
    "# Copy the result to the clipboard\n",
    "pyperclip.copy(f\"{result_tcpose}\")\n",
    "\n",
    "print(\"Copied to clipboard:\")\n",
    "print(f\"XXXX _p = {result_tcpose}\")\n",
    "print(f\"XXXX _q = {result_actual_q}\")\n",
    "rtde_r.disconnect()\n"
   ]
  },
  {
   "cell_type": "markdown",
   "metadata": {},
   "source": [
    "# SET TCP + FINGER"
   ]
  },
  {
   "cell_type": "code",
   "execution_count": null,
   "metadata": {},
   "outputs": [],
   "source": [
    "import rtde_control\n",
    "rtde_c = rtde_control.RTDEControlInterface('192.168.1.102')\n",
    "rtde_c.setTcp([0, 0, 0.195, 0, 0, 0])\n",
    "print(rtde_c.getTCPOffset())\n",
    "rtde_c.disconnect()"
   ]
  },
  {
   "cell_type": "markdown",
   "metadata": {},
   "source": [
    "# SET TCP -- NO -- FINGER"
   ]
  },
  {
   "cell_type": "code",
   "execution_count": 9,
   "metadata": {},
   "outputs": [
    {
     "name": "stdout",
     "output_type": "stream",
     "text": [
      "[0.0, 0.0, 0.165, 0.0, 0.0, 0.0]\n"
     ]
    }
   ],
   "source": [
    "import rtde_control\n",
    "rtde_c = rtde_control.RTDEControlInterface('192.168.1.102')\n",
    "rtde_c.setTcp([0, 0, 0.165, 0, 0, 0])\n",
    "print(rtde_c.getTCPOffset())\n",
    "rtde_c.disconnect()"
   ]
  },
  {
   "cell_type": "markdown",
   "metadata": {},
   "source": [
    "# GRIPPER OPEN"
   ]
  },
  {
   "cell_type": "code",
   "execution_count": 15,
   "metadata": {},
   "outputs": [
    {
     "data": {
      "text/plain": [
       "(140, <ObjectStatus.AT_DEST: 3>)"
      ]
     },
     "execution_count": 15,
     "metadata": {},
     "output_type": "execute_result"
    }
   ],
   "source": [
    "import sys\n",
    "sys.path.append('/home/user/thesis_ws/src/ROBOT_COMMAND_CODE')\n",
    "from robotiq_gripper import RobotiqGripper\n",
    "ip = \"192.168.1.102\"\n",
    "gripper = RobotiqGripper()\n",
    "gripper.connect(ip, 63352)\n",
    "gripper.move_and_wait_for_pos(140, 160, 10)"
   ]
  },
  {
   "cell_type": "markdown",
   "metadata": {},
   "source": [
    "# GRIPPER CLOSE FINGER"
   ]
  },
  {
   "cell_type": "code",
   "execution_count": 20,
   "metadata": {},
   "outputs": [
    {
     "data": {
      "text/plain": [
       "(180, <ObjectStatus.AT_DEST: 3>)"
      ]
     },
     "execution_count": 20,
     "metadata": {},
     "output_type": "execute_result"
    }
   ],
   "source": [
    "import sys\n",
    "sys.path.append('/home/user/thesis_ws/src/ROBOT_COMMAND_CODE')\n",
    "from robotiq_gripper import RobotiqGripper\n",
    "ip = \"192.168.1.102\"\n",
    "gripper = RobotiqGripper()\n",
    "gripper.connect(ip, 63352)\n",
    "gripper.move_and_wait_for_pos(180, 90, 30)"
   ]
  },
  {
   "cell_type": "markdown",
   "metadata": {},
   "source": [
    "# GRIPPER CLOSED 100%"
   ]
  },
  {
   "cell_type": "code",
   "execution_count": 26,
   "metadata": {},
   "outputs": [
    {
     "data": {
      "text/plain": [
       "(249, <ObjectStatus.AT_DEST: 3>)"
      ]
     },
     "execution_count": 26,
     "metadata": {},
     "output_type": "execute_result"
    }
   ],
   "source": [
    "import sys\n",
    "sys.path.append('/home/user/thesis_ws/src/ROBOT_COMMAND_CODE')\n",
    "from robotiq_gripper import RobotiqGripper\n",
    "ip = \"192.168.1.102\"\n",
    "gripper = RobotiqGripper()\n",
    "gripper.connect(ip, 63352)\n",
    "gripper.move_and_wait_for_pos(255, 180, 10)"
   ]
  },
  {
   "cell_type": "markdown",
   "metadata": {},
   "source": [
    "# MOVE J IK !!!"
   ]
  },
  {
   "cell_type": "code",
   "execution_count": 1,
   "metadata": {},
   "outputs": [
    {
     "ename": "NameError",
     "evalue": "name 'rtde_c' is not defined",
     "output_type": "error",
     "traceback": [
      "\u001b[0;31m---------------------------------------------------------------------------\u001b[0m",
      "\u001b[0;31mNameError\u001b[0m                                 Traceback (most recent call last)",
      "Cell \u001b[0;32mIn[1], line 1\u001b[0m\n\u001b[0;32m----> 1\u001b[0m \u001b[43mrtde_c\u001b[49m\u001b[38;5;241m.\u001b[39mstopScript()\n\u001b[1;32m      2\u001b[0m rtde_c\u001b[38;5;241m.\u001b[39mdisconnect()\n\u001b[1;32m      3\u001b[0m rtde_r\u001b[38;5;241m.\u001b[39mdisconnect()\n",
      "\u001b[0;31mNameError\u001b[0m: name 'rtde_c' is not defined"
     ]
    }
   ],
   "source": [
    "rtde_c.stopScript()\n",
    "rtde_c.disconnect()\n",
    "rtde_r.disconnect()"
   ]
  },
  {
   "cell_type": "code",
   "execution_count": null,
   "metadata": {},
   "outputs": [],
   "source": [
    "import rtde_control\n",
    "import time\n",
    "from POINTS_A320 import *\n",
    "rtde_c = rtde_control.RTDEControlInterface('192.168.1.102')\n",
    "\n",
    "from robotiq_gripper import RobotiqGripper\n",
    "ip = \"192.168.1.102\"\n",
    "gripper = RobotiqGripper()\n",
    "gripper.connect(ip, 63352)\n",
    "\n",
    "# YES FINGER\n",
    "\n",
    "rtde_c.setTcp([0, 0, 0.199, 0, 0, 0])\n",
    "print(rtde_c.getTCPOffset())\n",
    "\n",
    "rtde_c.moveJ(HOME_q)\n",
    "rtde_c.moveJ(EFIS_NEW_ROBOT_q)\n",
    "rtde_c.moveJ_IK(EFIS_LS_DOWN_p)\n",
    "rtde_c.moveJ(EFIS_NEW_ROBOT_q)\n",
    "\n",
    "time.sleep(0.2)\n",
    "\n",
    "rtde_c.moveJ(HOME_q)\n",
    "rtde_c.moveJ(FCU_APP_q)\n",
    "rtde_c.moveJ_IK(FCU_AP2_p)\n",
    "rtde_c.moveJ(FCU_APP_q)\n",
    "rtde_c.moveJ_IK(FCU_APPR_p)\n",
    "rtde_c.moveJ(FCU_APP_q)\n",
    "\n",
    "time.sleep(0.2)\n",
    "\n",
    "rtde_c.moveJ(HOME_q)\n",
    "rtde_c.moveJ(TERR_APP_q)\n",
    "rtde_c.moveJ_IK(TERR_ON_p)\n",
    "rtde_c.moveJ(TERR_APP_q)\n",
    "\n",
    "time.sleep(0.2)\n",
    "\n",
    "rtde_c.moveJ(HOME_q)\n",
    "rtde_c.moveJ(MCDU_APP_q)\n",
    "rtde_c.moveJ_IK(MCDU_FPLN_p)\n",
    "rtde_c.moveJ(MCDU_APP_q)\n",
    "rtde_c.moveJ_IK(MCDU_INIT_p)\n",
    "rtde_c.moveJ(MCDU_APP_q)\n",
    "rtde_c.moveJ(HOME_q)\n",
    "\n",
    "time.sleep(0.2)\n",
    "\n",
    "rtde_c.moveJ_IK([-0.417696, 0.855339, 0.208702, -1.225568, -1.544804, -0.154412])\n",
    "rtde_c.moveJ(AUTOBRAKE_APP_q)\n",
    "rtde_c.moveJ_IK(AUTOBRAKE_BUT_p)\n",
    "rtde_c.moveJ(AUTOBRAKE_APP_q)\n",
    "\n",
    "time.sleep(0.2)\n",
    "\n",
    "\n",
    "# NO FINGER\n",
    "rtde_c.moveJ_IK([-0.417696, 0.855339, 0.208702, -1.225568, -1.544804, -0.154412])\n",
    "gripper.move_and_wait_for_pos(0, 160, 10)\n",
    "rtde_c.setTcp([0, 0, 0.165, 0, 0, 0]) #opens\n",
    "print(rtde_c.getTCPOffset())\n",
    "time.sleep(0.6)\n",
    "\n",
    "rtde_c.moveJ(LDG_APP_q)\n",
    "rtde_c.moveJ_IK(LDG_UP_p)\n",
    "rtde_c.moveJ(LDG_APP_q)\n",
    "\n",
    "rtde_c.moveJ(THRUST_APP_q)\n",
    "rtde_c.moveJ_IK(THRUST_CL_p)\n",
    "rtde_c.moveJ(THRUST_APP_q)\n",
    "\n",
    "\n",
    "rtde_c.disconnect()"
   ]
  },
  {
   "cell_type": "markdown",
   "metadata": {},
   "source": [
    "# TEACH MODE"
   ]
  },
  {
   "cell_type": "code",
   "execution_count": 7,
   "metadata": {},
   "outputs": [
    {
     "data": {
      "text/plain": [
       "True"
      ]
     },
     "execution_count": 7,
     "metadata": {},
     "output_type": "execute_result"
    }
   ],
   "source": [
    "import rtde_control\n",
    "rtde_c = rtde_control.RTDEControlInterface('192.168.1.102')\n",
    "rtde_c.teachMode()"
   ]
  },
  {
   "cell_type": "code",
   "execution_count": 3,
   "metadata": {},
   "outputs": [],
   "source": [
    "rtde_c.endTeachMode()\n",
    "rtde_c.disconnect()"
   ]
  },
  {
   "cell_type": "markdown",
   "metadata": {},
   "source": [
    "# MOVE J"
   ]
  },
  {
   "cell_type": "code",
   "execution_count": 6,
   "metadata": {},
   "outputs": [],
   "source": [
    "import rtde_control\n",
    "#from POINTS_A320 import *\n",
    "rtde_c = rtde_control.RTDEControlInterface('192.168.1.102')\n",
    "\n",
    "# NO FINGER\n",
    "#rtde_c.moveJ([0.466686, -1.070364, 1.803317, 3.817632, -1.68657, 0.385462])\n",
    "LDG_UP_p    =  [-0.685026, 0.660226, 0.177332, -1.515234, -1.565224, 0.991631] # ORIGINAL \n",
    "LDG_DOWN_p  =  [-0.665339, 0.660462, 0.123637, -1.515223, -1.56523, 0.991621] # OLD\n",
    "#rtde_c.moveJ(MCDU_CLR_q)\n",
    "\n",
    "FLAPS_APP_q     =  [-1.61379, -1.204383, 1.543083, 4.309489, -1.596299, -0.062766]\n",
    "FLAPS_0_p       =  [-0.131814, 0.588514, -0.046268, -3.061561, 0.085233, -0.580164]\n",
    "FLAPS_1_p       =  [-0.103489, 0.588933, -0.037485, -3.079088, -0.000637, -0.301029]\n",
    "FLAPS_2_p       =  [-0.07345, 0.591552, -0.034033, -3.133595, 0.043438, 0.080362]\n",
    "FLAPS_3_p       =  [-0.043179, 0.591177, -0.035349, 3.120214, 0.019348, -0.363272]\n",
    "FLAPS_F_p       =  [-0.015647, 0.590711, -0.047151, -3.016676, 0.05602, 0.625068]\n",
    "\n",
    "import time\n",
    "rtde_c.moveJ(FLAPS_APP_q)\n",
    "time.sleep(0.5)\n",
    "rtde_c.moveJ_IK(FLAPS_F_p)\n",
    "time.sleep(1)\n",
    "rtde_c.moveJ(FLAPS_APP_q)\n",
    "\n",
    "rtde_c.disconnect()"
   ]
  },
  {
   "cell_type": "markdown",
   "metadata": {},
   "source": [
    "# MOVE AND FORCE PRESS"
   ]
  },
  {
   "cell_type": "code",
   "execution_count": null,
   "metadata": {},
   "outputs": [],
   "source": [
    "rtde_c.stopScript()\n",
    "rtde_c.disconnect()\n",
    "rtde_r.disconnect()"
   ]
  },
  {
   "cell_type": "code",
   "execution_count": null,
   "metadata": {},
   "outputs": [],
   "source": [
    "import rtde_control\n",
    "import rtde_receive\n",
    "import time\n",
    "from POINTS_A320 import *\n",
    "ip_address=\"192.168.1.102\"\n",
    "rtde_c = rtde_control.RTDEControlInterface(ip_address)\n",
    "rtde_r = rtde_receive.RTDEReceiveInterface(ip_address)\n",
    "\n",
    "# FORCE SETTINGS\n",
    "selection_vector    = [0, 0,  1, 0, 0, 0]\n",
    "dir_force           = [0, 0,  4, 0, 0, 0]\n",
    "force_type          = 2\n",
    "limits              = [0.2, 0.2, 8, 0.2, 0.2, 0.2]\n",
    "\n",
    "#rtde_c.moveJ_IK(MCDU_APPROACH_p)\n",
    "time.sleep(0.4)\n",
    "#rtde_c.moveJ_IK(MCDU_CLR_p)\n",
    "rtde_c.zeroFtSensor()\n",
    "for i in range(900):\n",
    "\n",
    "        t_start = rtde_c.initPeriod()\n",
    "\n",
    "        task_frame = rtde_r.getActualTCPPose()  #is updated time by time\n",
    "        rtde_c.forceMode(task_frame, selection_vector, dir_force, force_type, limits)\n",
    "        rtde_c.waitPeriod(t_start)\n",
    "rtde_c.forceModeStop()\n",
    "time.sleep(0.4)\n",
    "#rtde_c.moveJ_IK(MCDU_PROG_p)\n",
    "#rtde_c.moveJ_IK(MCDU_APPROACH_p)\n",
    "\n",
    "rtde_c.stopScript()\n",
    "rtde_c.disconnect()\n",
    "rtde_r.disconnect()"
   ]
  },
  {
   "cell_type": "markdown",
   "metadata": {},
   "source": [
    "# GRIPPER ROTATION ACTION"
   ]
  },
  {
   "cell_type": "code",
   "execution_count": null,
   "metadata": {},
   "outputs": [],
   "source": [
    "import rtde_control\n",
    "import rtde_receive\n",
    "import time\n",
    "from POINTS_A320 import *\n",
    "ip_address=\"192.168.1.102\"\n",
    "rtde_c = rtde_control.RTDEControlInterface(ip_address)\n",
    "rtde_r = rtde_receive.RTDEReceiveInterface(ip_address)\n",
    "\n",
    "# FORCE SETTINGS\n",
    "selection_vector    = [1, 1,  0, 0, 0, 1]\n",
    "dir_force           = [0, 0,  0, 0, 0, 4]\n",
    "force_type          = 2\n",
    "limits              = [0.2, 0.2, 0.2, 0.2, 0.2, 4]\n",
    "\n",
    "#rtde_c.moveJ_IK(MCDU_APPROACH_p)\n",
    "time.sleep(0.4)\n",
    "#rtde_c.moveJ_IK(MCDU_CLR_p)\n",
    "\n",
    "for i in range(1600):\n",
    "        t_start = rtde_c.initPeriod()\n",
    "\n",
    "        task_frame = rtde_r.getActualTCPPose()  #is updated time by time\n",
    "        rtde_c.forceMode(task_frame, selection_vector, dir_force, force_type, limits)\n",
    "        rtde_c.waitPeriod(t_start)\n",
    "rtde_c.forceModeStop()\n",
    "time.sleep(0.4)\n",
    "#rtde_c.moveJ_IK(MCDU_PROG_p)\n",
    "#rtde_c.moveJ_IK(MCDU_APPROACH_p)\n",
    "\n",
    "rtde_c.stopScript()\n",
    "rtde_c.disconnect()\n",
    "rtde_r.disconnect()"
   ]
  }
 ],
 "metadata": {
  "kernelspec": {
   "display_name": "Python 3",
   "language": "python",
   "name": "python3"
  },
  "language_info": {
   "codemirror_mode": {
    "name": "ipython",
    "version": 3
   },
   "file_extension": ".py",
   "mimetype": "text/x-python",
   "name": "python",
   "nbconvert_exporter": "python",
   "pygments_lexer": "ipython3",
   "version": "3.10.12"
  }
 },
 "nbformat": 4,
 "nbformat_minor": 2
}
